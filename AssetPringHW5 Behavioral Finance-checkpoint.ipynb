{
 "cells": [
  {
   "cell_type": "markdown",
   "metadata": {},
   "source": [
    "# Session 7 Behavioral Finance\n",
    "1. prospect theory:\n",
    "\n",
    "Gains and losses are measured relative to refrence level;\n",
    "\n",
    "Investors exhibit loss aversion: more sensitive to losses than gians (of same magnitude)\n",
    "\n",
    "2. house money effect: \n",
    "less risk averse after prior and more risk averse after prior losses\n",
    "\n",
    "3. Infinitely-lived investor maximises time-separable lifetime utility, from consumption and recnet financial gains or losses.\n",
    "\n",
    "$$E[\\sum (\\delta^{t}U(C)-\\delta^{t+1}b_{t} \\nu (X_{t+1})]=E[\\sum (\\delta^{t}\\frac{C_{t}^{1-\\gamma}}{1-\\gamma}-\\delta^{t+1}b_{t} \\nu (X_{t+1})]$$\n",
    "其中$$\\delta=e^{- \\rho}$$discount factor\n",
    "coefficient of risk aversion$$\\gamma>0$$\n",
    "utility of recent financial gains or losses$$\\nu(X_{t})$$\n",
    "scalse factor$$b_{t}$$"
   ]
  },
  {
   "cell_type": "markdown",
   "metadata": {},
   "source": [
    "# power uitility function: \n",
    "$$U(C)=(1-\\gamma)^{-1}C^{1-\\gamma}$$\n",
    "---->\n",
    "$$M=\\delta (\\frac{U'(C_{1})}{U'(C_{0})})^{-\\gamma}=\\delta (\\frac{C_{1}}{C_{0}})^{-\\gamma}$$"
   ]
  },
  {
   "cell_type": "code",
   "execution_count": 1,
   "metadata": {},
   "outputs": [],
   "source": [
    "import matplotlib.pyplot as plt\n",
    "import numpy as np\n",
    "from scipy.optimize import bisect\n",
    "from scipy.stats import norm"
   ]
  },
  {
   "cell_type": "markdown",
   "metadata": {},
   "source": [
    "# 1. consumption growth(lognormal distribution)\n",
    "consumption growth with disaster: $ln(\\frac{C_1}{C_0})=u_c+ \\sigma_c \\epsilon_{t+1} + \\nu_{t+1}$"
   ]
  },
  {
   "cell_type": "code",
   "execution_count": 2,
   "metadata": {},
   "outputs": [],
   "source": [
    "delta=0.99\n",
    "gamma=1\n",
    "Lambda=2\n",
    "\n",
    "u_c=0.02\n",
    "sigma_c=0.02\n",
    "epsilon=norm.rvs(loc=0,scale=1,size=10_000)\n",
    "lng=u_c+sigma_c*epsilon\n",
    "g=np.exp(lng)\n",
    "\n",
    "riskfree=1.0303\n",
    "def nv(R):\n",
    "    temp=[]\n",
    "    for i in R:\n",
    "        if i>=riskfree:\n",
    "            temp.append(i-riskfree)\n",
    "        else:\n",
    "            temp.append(Lambda*(i-riskfree))\n",
    "    return temp"
   ]
  },
  {
   "cell_type": "markdown",
   "metadata": {},
   "source": [
    "# lognormal growth\n",
    "由lognorma growth 可知$$\\frac{P_{t}}{D_{t}}=\\frac{\\theta}{1-\\theta}$$\n",
    "$$E_{t}[R_{t+1}]=\\frac{1}{\\theta}E_{t}[\\frac{C_{t+1}}{C_{t}}]$$\n",
    "题目中令$x=\\frac{1}{\\theta}$就有\n",
    "$x=1+\\frac{D}{P}$,\n",
    "\n",
    "marker return:$E_{t}[R_{t+1}]=x\\frac{C_{t+1}}{C_{t}}=xg$\n",
    "\n",
    "# solve first-order condition for optimal consumption:\n",
    "$$E[\\sum (\\delta^{t}\\frac{C_{t}^{1-\\gamma}}{1-\\gamma}-\\delta^{t+1}b_{t} \\nu (X_{t+1})]$$\n",
    "\n",
    "2. $$\\delta R_{f}E_{t}[(\\frac{C_{t+1}}{C_{t}})^{(-\\gamma)}]=1$$\n",
    "\n",
    "就有$R_{f,t}=E_{t}[\\delta(\\frac{C_{t+1}}{C_{t}})^{-\\gamma}]^{-1}=\\frac{1}{E_{t}[M_{t+1}]}$\n",
    "\n",
    "3. \n",
    "$$\\delta b_{0}E_{t}[\\nu(R_{t+1})]+\\delta E_{t}[(\\frac{C_{t+1}}{C_{t}})^{-\\gamma}R_{t+1}]=1$$\n",
    "\n",
    "得出error:$e(x)=\\delta b_{0}E[\\nu(xg)]+\\delta x-1$\n",
    "\n",
    "marker return:$E_{t}[R_{t+1}]=x\\frac{C_{t+1}}{C_{t}}=xg$\n"
   ]
  },
  {
   "cell_type": "code",
   "execution_count": 3,
   "metadata": {},
   "outputs": [],
   "source": [
    "error = lambda x: delta*b*np.mean(nv(x*g))+delta*x-1 #error term"
   ]
  },
  {
   "cell_type": "code",
   "execution_count": 4,
   "metadata": {},
   "outputs": [],
   "source": [
    "#define my own bisection function\n",
    "def mybisect(func,xlim,xmax):\n",
    "    temp1=func(xlim)\n",
    "    temp2=func(xmax)\n",
    "    if (temp1>0 and temp2>0) or (temp1<0 and temp2<0):\n",
    "        raise ValueError\n",
    "    else:\n",
    "        xmid=(xlim+xmax)/2\n",
    "        temp3=func(xmid)\n",
    "        err=abs(temp3-0)\n",
    "        if err<10**(-4):\n",
    "            return xmid\n",
    "        else:\n",
    "            if (temp1>0 and temp3<0) or (temp1<0 and temp3>0):\n",
    "                return mybisect(func,xlim,xmid)\n",
    "            elif (temp2>0 and temp3<0) or (temp2<0 and temp3>0):\n",
    "                return mybisect(func,xmid,xmax)\n",
    "            else:\n",
    "                return xmid"
   ]
  },
  {
   "cell_type": "markdown",
   "metadata": {},
   "source": [
    "marker return:$E_{t}[R_{t+1}]=x\\frac{C_{t+1}}{C_{t}}=xg$"
   ]
  },
  {
   "cell_type": "code",
   "execution_count": 5,
   "metadata": {},
   "outputs": [],
   "source": [
    "b0=np.linspace(0,10,100)\n",
    "solve=[]\n",
    "marketreturn=[]\n",
    "xmax=1.1\n",
    "xmin=1\n",
    "for b in b0:\n",
    "    x=mybisect(error,xmin,xmax)\n",
    "    #x=bisect(error,xmin,xmax)\n",
    "    solve.append(x)\n",
    "#3. caculate the expected markete return \n",
    "    marketreturn.append(np.mean(x*g))\n",
    "x=np.array(solve)\n",
    "marketreturn=np.array(marketreturn)\n",
    "premium=marketreturn-riskfree"
   ]
  },
  {
   "cell_type": "code",
   "execution_count": 6,
   "metadata": {},
   "outputs": [
    {
     "data": {
      "image/png": "[encoded data removed]",
      "text/plain": [
       "<Figure size 432x288 with 1 Axes>"
      ]
     },
     "metadata": {},
     "output_type": "display_data"
    }
   ],
   "source": [
    "PD=1/(x-1)\n",
    "plt.plot(b0,PD)\n",
    "plt.xlabel('b0')\n",
    "plt.ylabel('price dividend')\n",
    "plt.grid()\n",
    "plt.title('Price-Dividend Ratio vs b0')\n",
    "plt.savefig(\"Price-Dividend Ratio vs b0.png\")\n",
    "plt.show()"
   ]
  },
  {
   "cell_type": "code",
   "execution_count": 7,
   "metadata": {},
   "outputs": [
    {
     "data": {
      "image/png": "[encoded data removed]",
      "text/plain": [
       "<Figure size 432x288 with 1 Axes>"
      ]
     },
     "metadata": {},
     "output_type": "display_data"
    }
   ],
   "source": [
    "plt.plot(b0,premium)\n",
    "plt.xlabel('b0')\n",
    "plt.ylabel('Expected Market Return')\n",
    "plt.grid()\n",
    "plt.title('Equity Premium vs b0')\n",
    "plt.savefig(\"Equity Premium vs b0.png\")\n",
    "plt.show()"
   ]
  },
  {
   "cell_type": "markdown",
   "metadata": {},
   "source": [
    "# Economic Significance:\n",
    "\n",
    "# 1. Investor's utility function \n",
    "combines power utility for consumption with prospect theory for utility from recent financial gains or losses.\n",
    "\n",
    "Recent financial gains or losses are measured relative to reference level determined by risk-free rate.\n",
    "\n",
    "# 2. Lambda \n",
    "controls degree of loss aversion for utility from recent financial gains or losses, while \n",
    "# 3. b0 \n",
    "controls balance between utility of consumption and utility from recent financial gains or losses."
   ]
  },
  {
   "cell_type": "code",
   "execution_count": null,
   "metadata": {},
   "outputs": [],
   "source": []
  },
  {
   "cell_type": "code",
   "execution_count": null,
   "metadata": {},
   "outputs": [],
   "source": []
  }
 ],
 "metadata": {
  "kernelspec": {
   "display_name": "Python 3",
   "language": "python",
   "name": "python3"
  },
  "language_info": {
   "codemirror_mode": {
    "name": "ipython",
    "version": 3
   },
   "file_extension": ".py",
   "mimetype": "text/x-python",
   "name": "python",
   "nbconvert_exporter": "python",
   "pygments_lexer": "ipython3",
   "version": "3.6.5"
  }
 },
 "nbformat": 4,
 "nbformat_minor": 2
}
